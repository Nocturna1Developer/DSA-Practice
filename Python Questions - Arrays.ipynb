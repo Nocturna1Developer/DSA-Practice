{
 "cells": [
  {
   "cell_type": "code",
   "execution_count": 8,
   "id": "20330541",
   "metadata": {},
   "outputs": [
    {
     "data": {
      "text/plain": [
       "5"
      ]
     },
     "execution_count": 8,
     "metadata": {},
     "output_type": "execute_result"
    }
   ],
   "source": [
    "# 8\n",
    "def distinct(arr):\n",
    "    s = set()\n",
    "    for i in range(len(arr)):\n",
    "        s.add(abs(arr[i]))\n",
    "    return len(s)\n",
    "\n",
    "arr = [-3, -2, 0, 3, 4, 5]\n",
    "distinct(arr)"
   ]
  },
  {
   "cell_type": "code",
   "execution_count": 3,
   "id": "0a4baa5e",
   "metadata": {},
   "outputs": [
    {
     "name": "stdout",
     "output_type": "stream",
     "text": [
      "[1, 2, 3, 6]\n"
     ]
    }
   ],
   "source": [
    "# 9\n",
    "def sum(arr, n):\n",
    "    # temp variable to assign to the end of array\n",
    "    i = n\n",
    "    if(arr[i] < 9):\n",
    "        arr[i] = arr[i] + 1\n",
    "        return\n",
    "    else:\n",
    "        arr[i] = 0\n",
    "        \n",
    "    sum(arr, i)\n",
    "  \n",
    "arr =  [1, 2, 3, 5]\n",
    "n = len(arr) - 1\n",
    "sum(arr, n)\n",
    "print(arr)"
   ]
  },
  {
   "cell_type": "code",
   "execution_count": 4,
   "id": "e6726998",
   "metadata": {},
   "outputs": [
    {
     "name": "stdout",
     "output_type": "stream",
     "text": [
      "[1, 2, 3, 7, 1, 4, 1, 7, 1, 3]\n"
     ]
    }
   ],
   "source": [
    "# 10\n",
    "def add_in_constraints(arr1, arr2):\n",
    "    i = 0\n",
    "    \n",
    "    n = len(arr1)\n",
    "    m = len(arr2)\n",
    "    \n",
    "    out = []\n",
    "    \n",
    "    # when to use a while loop when you have two arrays\n",
    "    while(i < n and i < m):\n",
    "        sum = arr1[i] + arr2[i]\n",
    "        \n",
    "        if (sum < 10):\n",
    "            out.append(sum)\n",
    "        else:\n",
    "            str_sum = str(sum)\n",
    "            for k in str(sum):\n",
    "                out.append(int(k))\n",
    "        i += 1\n",
    "    return out\n",
    "            \n",
    "a = [9, 2, 3, 7, 9, 6]\n",
    "b = [3, 1, 4, 7, 8, 7, 6, 9]\n",
    "print(add_in_constraints(a, b))"
   ]
  },
  {
   "cell_type": "code",
   "execution_count": 14,
   "id": "6e6b20d8",
   "metadata": {},
   "outputs": [
    {
     "name": "stdout",
     "output_type": "stream",
     "text": [
      "2\n"
     ]
    }
   ],
   "source": [
    "# 11\n",
    "def min_to_add(arr):\n",
    "    res = 0\n",
    "    min_num = 0\n",
    "    for i in range(len(arr)):\n",
    "        res += arr[i]\n",
    "        if(res % 2 == 0):\n",
    "            min_num = 2\n",
    "        else:\n",
    "            min_num = 1\n",
    "    return min_num\n",
    "\n",
    "arr1 = [1, 2, 3, 4, 5, 6, 7, 8]\n",
    "print(min_to_add(arr1))"
   ]
  },
  {
   "cell_type": "code",
   "execution_count": 16,
   "id": "bc648e18",
   "metadata": {},
   "outputs": [
    {
     "name": "stdout",
     "output_type": "stream",
     "text": [
      "2\n"
     ]
    }
   ],
   "source": [
    "def min_to_add_alt(arr):\n",
    "    res = 0\n",
    "    odd_count = 0\n",
    "    for i in range(len(arr)):\n",
    "        if(arr[i] % 2 != 0):\n",
    "            odd_count += 1\n",
    "    \n",
    "    if(odd_count % 2 == 0):\n",
    "        return 2\n",
    "    return 1\n",
    "            \n",
    "\n",
    "arr1 = [1, 2, 3, 4, 5, 6, 7, 8]\n",
    "print(min_to_add_alt(arr1))"
   ]
  },
  {
   "cell_type": "code",
   "execution_count": 34,
   "id": "a6c6b082",
   "metadata": {},
   "outputs": [
    {
     "name": "stdout",
     "output_type": "stream",
     "text": [
      "Adding:  6\n",
      "After:  6\n",
      "Head before:  6\n",
      "Adding:  4\n",
      "After:  4\n",
      "Head before:  4\n",
      "Adding:  9\n",
      "After:  9\n",
      "Head before:  9\n",
      "Adding:  5\n",
      "After:  5\n",
      "Head before:  5\n",
      "Adding:  7\n",
      "After:  7\n",
      "Adding:  4\n",
      "After:  4\n",
      "Head before:  4\n",
      "Adding:  8\n",
      "After:  8\n"
     ]
    }
   ],
   "source": [
    "'''\n",
    "Traverse both lists. One by one pick nodes of both lists and add the values. If sum is more\n",
    "than 10 then make carry as 1 and reduce sum. If one list has more elements than the other\n",
    "then consider remaining values of this list as 0. Following is the implementation of this\n",
    "approach.\n",
    "'''\n",
    "class Node:\n",
    "    def __init__(self, data):\n",
    "        self.data = data\n",
    "        self.next = None\n",
    "\n",
    "class LinkedList:\n",
    "    def __init__(self):\n",
    "        self.head = None\n",
    "        \n",
    "    def push(self, new_data):\n",
    "        if(self.head is not None):\n",
    "            print(\"Head before: \", self.head.data)\n",
    " \n",
    "        print(\"Adding: \", new_data)\n",
    "            \n",
    "        new_node = Node(new_data)\n",
    "        new_node.next = self.head\n",
    "        self.head = new_node\n",
    "        \n",
    "        print(\"After: \", self.head.data)\n",
    "\n",
    "    def printList(self):\n",
    "        temp = self.head\n",
    "        while(temp):\n",
    "            print(temp.data)\n",
    "            temp = temp.next\n",
    "\n",
    "\n",
    "# Driver program to test above function\n",
    "first = LinkedList()\n",
    "second = LinkedList()\n",
    "  \n",
    "# Create first list\n",
    "first.push(6)\n",
    "first.push(4)\n",
    "first.push(9)\n",
    "first.push(5)\n",
    "first.push(7)\n",
    "\n",
    "#first.printList()\n",
    "  \n",
    "# Create second list\n",
    "second.push(4)\n",
    "second.push(8)\n",
    "\n",
    "#second.printList()\n",
    "  \n",
    "# Add the two lists and see result\n",
    "res = LinkedList()\n",
    "#res.printList()\n",
    "        \n"
   ]
  },
  {
   "cell_type": "code",
   "execution_count": 1,
   "id": "1d278bde",
   "metadata": {},
   "outputs": [
    {
     "data": {
      "text/plain": [
       "False"
      ]
     },
     "execution_count": 1,
     "metadata": {},
     "output_type": "execute_result"
    }
   ],
   "source": [
    "'''\n",
    "Traverse both lists. One by one pick nodes of both lists and add the values. If sum is more\n",
    "than 10 then make carry as 1 and reduce sum. If one list has more elements than the other\n",
    "then consider remaining values of this list as 0. Following is the implementation of this\n",
    "approach.\n",
    "'''\n",
    "class Node:\n",
    "    def __init__(self, data):\n",
    "        self.data = data\n",
    "        self.next = None\n",
    "\n",
    "class LinkedList:\n",
    "    def __init__(self):\n",
    "        self.head = None\n",
    "        \n",
    "    def push(self, new_data):\n",
    "        new_node = Node(new_data)\n",
    "        new_node.next = self.head\n",
    "        self.head = new_node\n",
    "        return self.head\n",
    "\n",
    "    def printList(self):\n",
    "        temp = self.head\n",
    "        while(temp):\n",
    "            print(temp.data)\n",
    "            temp = temp.next\n",
    "    \n",
    "    def cycle(self):\n",
    "        if (self.head is None): return True\n",
    "    \n",
    "        node = self.head.next\n",
    "        \n",
    "        while(node is not None and node != self.head):\n",
    "            node = node.next\n",
    "        \n",
    "        return (node == self.head)\n",
    "        \n",
    "# Driver program to test above function\n",
    "first = LinkedList()\n",
    "second = LinkedList()\n",
    "  \n",
    "# Create first list\n",
    "first.push(1)\n",
    "test = first.push(4)\n",
    "first.push(2)\n",
    "first.push(3)\n",
    "first.head.next = test\n",
    "first.push(10)\n",
    "\n",
    "first.cycle()"
   ]
  },
  {
   "cell_type": "code",
   "execution_count": null,
   "id": "a071c2b6",
   "metadata": {},
   "outputs": [],
   "source": []
  }
 ],
 "metadata": {
  "kernelspec": {
   "display_name": "Python 3 (ipykernel)",
   "language": "python",
   "name": "python3"
  },
  "language_info": {
   "codemirror_mode": {
    "name": "ipython",
    "version": 3
   },
   "file_extension": ".py",
   "mimetype": "text/x-python",
   "name": "python",
   "nbconvert_exporter": "python",
   "pygments_lexer": "ipython3",
   "version": "3.9.12"
  }
 },
 "nbformat": 4,
 "nbformat_minor": 5
}
