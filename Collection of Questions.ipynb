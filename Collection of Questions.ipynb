{
 "cells": [
  {
   "cell_type": "markdown",
   "id": "3f6be0fc",
   "metadata": {},
   "source": [
    "## Arrays"
   ]
  },
  {
   "cell_type": "code",
   "execution_count": 1,
   "id": "120495c2",
   "metadata": {},
   "outputs": [
    {
     "data": {
      "text/plain": [
       "5"
      ]
     },
     "execution_count": 1,
     "metadata": {},
     "output_type": "execute_result"
    }
   ],
   "source": [
    "# 8\n",
    "def distinct(arr):\n",
    "    s = set()\n",
    "    for i in range(len(arr)):\n",
    "        s.add(abs(arr[i]))\n",
    "    return len(s)\n",
    "\n",
    "arr = [-3, -2, 0, 3, 4, 5]\n",
    "distinct(arr)"
   ]
  },
  {
   "cell_type": "code",
   "execution_count": 2,
   "id": "4a30dcad",
   "metadata": {},
   "outputs": [
    {
     "name": "stdout",
     "output_type": "stream",
     "text": [
      "[1, 2, 3, 6]\n"
     ]
    }
   ],
   "source": [
    "# 9\n",
    "def sum(arr, n):\n",
    "    # temp variable to assign to the end of array\n",
    "    i = n\n",
    "    if(arr[i] < 9):\n",
    "        arr[i] = arr[i] + 1\n",
    "        return\n",
    "    else:\n",
    "        arr[i] = 0\n",
    "        \n",
    "    sum(arr, i)\n",
    "  \n",
    "arr =  [1, 2, 3, 5]\n",
    "n = len(arr) - 1\n",
    "sum(arr, n)\n",
    "print(arr)"
   ]
  },
  {
   "cell_type": "code",
   "execution_count": 3,
   "id": "6ca62449",
   "metadata": {},
   "outputs": [
    {
     "name": "stdout",
     "output_type": "stream",
     "text": [
      "[1, 2, 3, 7, 1, 4, 1, 7, 1, 3]\n"
     ]
    }
   ],
   "source": [
    "# 10\n",
    "def add_in_constraints(arr1, arr2):\n",
    "    i = 0\n",
    "    \n",
    "    n = len(arr1)\n",
    "    m = len(arr2)\n",
    "    \n",
    "    out = []\n",
    "    \n",
    "    # when to use a while loop when you have two arrays\n",
    "    while(i < n and i < m):\n",
    "        sum = arr1[i] + arr2[i]\n",
    "        \n",
    "        if (sum < 10):\n",
    "            out.append(sum)\n",
    "        else:\n",
    "            str_sum = str(sum)\n",
    "            for k in str(sum):\n",
    "                out.append(int(k))\n",
    "        i += 1\n",
    "    return out\n",
    "            \n",
    "a = [9, 2, 3, 7, 9, 6]\n",
    "b = [3, 1, 4, 7, 8, 7, 6, 9]\n",
    "print(add_in_constraints(a, b))"
   ]
  },
  {
   "cell_type": "code",
   "execution_count": 4,
   "id": "afc2e272",
   "metadata": {},
   "outputs": [
    {
     "name": "stdout",
     "output_type": "stream",
     "text": [
      "2\n"
     ]
    }
   ],
   "source": [
    "# 11\n",
    "def min_to_add(arr):\n",
    "    res = 0\n",
    "    min_num = 0\n",
    "    for i in range(len(arr)):\n",
    "        res += arr[i]\n",
    "        if(res % 2 == 0):\n",
    "            min_num = 2\n",
    "        else:\n",
    "            min_num = 1\n",
    "    return min_num\n",
    "\n",
    "arr1 = [1, 2, 3, 4, 5, 6, 7, 8]\n",
    "print(min_to_add(arr1))"
   ]
  },
  {
   "cell_type": "code",
   "execution_count": 5,
   "id": "bc3ad16f",
   "metadata": {},
   "outputs": [
    {
     "name": "stdout",
     "output_type": "stream",
     "text": [
      "2\n"
     ]
    }
   ],
   "source": [
    "def min_to_add_alt(arr):\n",
    "    res = 0\n",
    "    odd_count = 0\n",
    "    for i in range(len(arr)):\n",
    "        if(arr[i] % 2 != 0):\n",
    "            odd_count += 1\n",
    "    \n",
    "    if(odd_count % 2 == 0):\n",
    "        return 2\n",
    "    return 1\n",
    "            \n",
    "\n",
    "arr1 = [1, 2, 3, 4, 5, 6, 7, 8]\n",
    "print(min_to_add_alt(arr1))"
   ]
  },
  {
   "cell_type": "code",
   "execution_count": 8,
   "id": "f4fc794e",
   "metadata": {},
   "outputs": [
    {
     "name": "stdout",
     "output_type": "stream",
     "text": [
      "[89, 88, 87, 86, 85, 84, 83, 82, 81, 80, 79, 78, 77, 76, 75, 74, 73, 72, 71, 70, 69, 68, 67, 66, 65, 64, 63, 62, 61, 60, 59, 58, 57, 56, 55, 54, 53, 52, 51, 50, 49, 48, 47, 46, 45, 44, 43, 42, 41, 40, 39, 38, 37, 36, 35, 34, 33, 32, 31, 30, 29, 28, 27, 26, 25, 24, 23, 22, 21, 20, 19, 18, 17, 16, 15, 14, 13, 12, 11, 10, 9, 8, 7, 6, 5, 4, 3, 2, 1]\n"
     ]
    }
   ],
   "source": [
    "import random\n",
    "def makeRandomList(size):\n",
    "    lyst = []\n",
    "    for count in range(size):\n",
    "        while True:\n",
    "            # numbers in the list are unique and range from 1 through the size.\n",
    "            number = random.randint(1, size)\n",
    "            if not number in lyst: \n",
    "                lyst.append(number)\n",
    "                break\n",
    "    return sorted(lyst, reverse = True)\n",
    "\n",
    "\n",
    "print(makeRandomList(89))"
   ]
  },
  {
   "cell_type": "code",
   "execution_count": 10,
   "id": "aafc665b",
   "metadata": {},
   "outputs": [
    {
     "name": "stdout",
     "output_type": "stream",
     "text": [
      "5\n"
     ]
    }
   ],
   "source": [
    "head = None\n",
    "# Add five nodes to the beginning of the linked structure\n",
    "for count in range(1, 6):\n",
    "    head = Node(count)\n",
    "# Print the contents of the structure\n",
    "while head != None:\n",
    "    print(head.data)\n",
    "    head = head.next"
   ]
  },
  {
   "cell_type": "markdown",
   "id": "ee2d7f6f",
   "metadata": {},
   "source": [
    "## Linked List"
   ]
  },
  {
   "cell_type": "code",
   "execution_count": null,
   "id": "598f52b7",
   "metadata": {},
   "outputs": [],
   "source": [
    "class Node:\n",
    "    def __init__(self, data):\n",
    "        self.data = data\n",
    "        self.next = None\n",
    "\n",
    "class LinkedList:\n",
    "    def __init__(self, head):\n",
    "        self.head = None\n",
    "    \n",
    "    def push(self, new_data):\n",
    "        new_node = Node(new_data)\n",
    "        new_node.next = self.head\n",
    "    \n",
    "    def delete(self, target):\n",
    "        target.data = target.next.data\n",
    "        target.next = target.next.next\n",
    "\n",
    "    def delete_at_start(self):\n",
    "        if(self.head is None or self.head.next is None):\n",
    "            self.head = None\n",
    "\n",
    "        temp = self.head\n",
    "        #!!!!!!!!!!!!!!!!!!!!! got it wrong below\n",
    "        self.head = temp.next\n",
    "        self.head = temp.next.next\n",
    "    \n",
    "    def delete_duplicate(self, head, target):\n",
    "        if(self.head is None): return None\n",
    "        if(self.head.next is None):\n",
    "            self.head = None\n",
    "            return self.head\n",
    "        \n",
    "        curr = self.head\n",
    "        while(curr is not None and curr.next is not None):     \n",
    "            if(curr.data == target.data):\n",
    "                target.data = curr.next.data\n",
    "                target.next = curr.next.next\n",
    "            curr = curr.next\n",
    "\n",
    "    def insert_at_end(self, new_data):\n",
    "        if(head is None): \n",
    "            new_node = Node(new_data)\n",
    "            return new_node\n",
    "\n",
    "        temp = self.head\n",
    "        while(temp is not None):\n",
    "            temp = temp.next\n",
    "\n",
    "        new_node = Node(new_data)\n",
    "        temp.next = new_node\n",
    "    \n",
    "    def reverse(self, head):\n",
    "        prev = None\n",
    "        while(self.head):\n",
    "            temp = head\n",
    "            head = head.next\n",
    "            temp.next = prev\n",
    "            prev = temp\n",
    "        \n",
    "        return prev\n",
    "    \n",
    "    def length_of_linked(self, head):\n",
    "        count = 0\n",
    "        curr = self.head\n",
    "        while(curr):\n",
    "            curr = curr.next\n",
    "            count += 1\n",
    "        return count\n",
    "    \n",
    "    def length_of_loop(self, head):\n",
    "        if(self.head is None) return 0\n",
    "        if(self.head.next is None) return 1\n",
    "        \n",
    "        count = 0\n",
    "        \n",
    "        curr = self.head\n",
    "        slow = curr\n",
    "        fast = curr.next\n",
    "        \n",
    "        while(slow and slow.next and fast.next.next):\n",
    "            while(slow.data == fast.data):\n",
    "                while(slow.data != fast.data):\n",
    "                    #!!!!! forgot only next line\n",
    "                    slow = slow.next\n",
    "                    count += 1\n",
    "                \n",
    "            slow = slow.next\n",
    "            fast = fast.next.next\n",
    "        \n",
    "        return count\n",
    "    \n",
    "\n",
    "    \n",
    "# Driver program to test above function\n",
    "first = LinkedList()\n",
    "second = LinkedList()\n",
    "  \n",
    "# Create first list\n",
    "first.push(6)\n",
    "first.push(4)\n",
    "first.push(9)\n",
    "first.push(5)\n",
    "first.push(7)\n",
    "  \n",
    "# Create second list\n",
    "second.push(4)\n",
    "second.push(8)"
   ]
  },
  {
   "cell_type": "markdown",
   "id": "bfc78059",
   "metadata": {},
   "source": [
    "## Binary Trees"
   ]
  },
  {
   "cell_type": "code",
   "execution_count": null,
   "id": "7e0806dc",
   "metadata": {},
   "outputs": [],
   "source": [
    "class Node:\n",
    "    def __init__(self, key): # we don't need these becuase they are being initalized: left, right:\n",
    "        self.val = key\n",
    "        self.left = None\n",
    "        self.right = None\n",
    "\n",
    "class Height:\n",
    "    def __init__(self):\n",
    "        self.h = 0\n",
    "    \n",
    "class Tree:\n",
    "    def inOrder(root):\n",
    "        inOrder(root.left) # !!!!!!!!\n",
    "        print(root.val) # !!!!!!!!\n",
    "        inOrder(root.right) # !!!!!!!\n",
    "        \n",
    "    def preOrder(root):\n",
    "        print(root.val)\n",
    "        preOrder(root.left)\n",
    "        preOrder(root.right)\n",
    "    \n",
    "    def postOrder(root):\n",
    "        postOrder(root.left)  # !!!!\n",
    "        postOrder(root.right) # !!!!\n",
    "        print(root.val) # !!!!\n",
    "        \n",
    "    def insert(root, key): # insert at root 12\n",
    "        if(root is None):\n",
    "            root = Node(key)\n",
    "        \n",
    "        q = []\n",
    "        q.append(root) #!!!!\n",
    "        while(q):\n",
    "            front = q.pop()\n",
    "            \n",
    "            if(root.left is None):\n",
    "                root.left = Node(key)\n",
    "            else:\n",
    "                q.append(root.left) #!!!!!\n",
    "            \n",
    "            if(root.right is None):\n",
    "                root.right = Node(key)\n",
    "            else:\n",
    "                q.append(root.right)\n",
    "        return root\n",
    "\n",
    "class TreeFunctions:\n",
    "    def breadth_first_search(root): # REDO THIS ONE\n",
    "        if(root is None): return None\n",
    "\n",
    "        q = []\n",
    "        bfs_levels = []\n",
    "        q.append(root)\n",
    "\n",
    "        while(q):\n",
    "            each_level = [] # !!!!!\n",
    "\n",
    "            for x in range(len(q)):\n",
    "                front = q.pop()\n",
    "                if front is not None:  # !!!!!\n",
    "                    each_level.append(front.val)  # !!!!!\n",
    "                    queue.append(front.left)\n",
    "                    queue.append(front.right)\n",
    "\n",
    "        bfs_levels.append(each_level)\n",
    "        return bfs_levels\n",
    "\n",
    "     def depth_first_search(root): #getting the math depth of a tree\n",
    "        if(root is None): return 0\n",
    "\n",
    "        return (1 + max(dfs(root.left)), max(dfs(root.right)) # added them together instead of a comma, add for getting the diameter??\n",
    "\n",
    "     def max_element(root):\n",
    "        if(root is None): return None\n",
    "\n",
    "        q = []\n",
    "        q.append(root)\n",
    "        front = None\n",
    "        while(q):\n",
    "            front = q.pop()\n",
    "            temp = root\n",
    "            if(temp.data > front.data)\n",
    "                front.data = temp.data\n",
    "            \n",
    "            max_element(root.left)\n",
    "            max_element(root.right)\n",
    "                \n",
    "        return front\n",
    "                \n",
    "                "
   ]
  },
  {
   "cell_type": "code",
   "execution_count": null,
   "id": "95da5777",
   "metadata": {},
   "outputs": [],
   "source": []
  },
  {
   "cell_type": "code",
   "execution_count": null,
   "id": "387d5cd8",
   "metadata": {},
   "outputs": [],
   "source": []
  },
  {
   "cell_type": "code",
   "execution_count": null,
   "id": "ebb8f962",
   "metadata": {},
   "outputs": [],
   "source": []
  },
  {
   "cell_type": "code",
   "execution_count": null,
   "id": "538b38dc",
   "metadata": {},
   "outputs": [],
   "source": []
  }
 ],
 "metadata": {
  "kernelspec": {
   "display_name": "Python 3 (ipykernel)",
   "language": "python",
   "name": "python3"
  },
  "language_info": {
   "codemirror_mode": {
    "name": "ipython",
    "version": 3
   },
   "file_extension": ".py",
   "mimetype": "text/x-python",
   "name": "python",
   "nbconvert_exporter": "python",
   "pygments_lexer": "ipython3",
   "version": "3.9.12"
  }
 },
 "nbformat": 4,
 "nbformat_minor": 5
}
